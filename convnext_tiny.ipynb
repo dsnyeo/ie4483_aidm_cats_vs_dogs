{
 "cells": [
  {
   "cell_type": "code",
   "execution_count": 1,
   "id": "4cd22cc4",
   "metadata": {
    "scrolled": false
   },
   "outputs": [],
   "source": [
    "#%pip install --upgrade pip\n",
    "#%pip install torch torchvision torchaudio --index-url https://download.pytorch.org/whl/cu121\n",
    "#%pip install timm tqdm scikit-learn\n",
    "#%pip install -U timm tqdm scikit-learn\n",
    "#%pip install ruamel-yaml"
   ]
  },
  {
   "cell_type": "code",
   "execution_count": 2,
   "id": "db3b6028",
   "metadata": {},
   "outputs": [
    {
     "name": "stdout",
     "output_type": "stream",
     "text": [
      "Device: cuda\n"
     ]
    }
   ],
   "source": [
    "import os, math, time, random\n",
    "import torch, torch.nn as nn\n",
    "from torch.utils.data import DataLoader\n",
    "from torch.optim import AdamW\n",
    "from torch import amp\n",
    "from torchvision import datasets, transforms\n",
    "from tqdm.auto import tqdm\n",
    "\n",
    "import timm\n",
    "from timm.loss import SoftTargetCrossEntropy\n",
    "from timm.data import Mixup\n",
    "from timm.utils import ModelEmaV2\n",
    "from timm.scheduler import CosineLRScheduler\n",
    "\n",
    "from sklearn.metrics import classification_report, confusion_matrix\n",
    "import numpy as np\n",
    "\n",
    "device = torch.device('cuda' if torch.cuda.is_available() else 'cpu')\n",
    "device_type = 'cuda' if torch.cuda.is_available() else 'cpu'\n",
    "print('Device:', device)\n",
    "torch.backends.cudnn.benchmark = True"
   ]
  },
  {
   "cell_type": "code",
   "execution_count": 3,
   "id": "acbaeff0",
   "metadata": {},
   "outputs": [],
   "source": [
    "train_dir = r\"C:\\Users\\Liang\\OneDrive - Nanyang Technological University\\Documents\\AIDM\\datasets\\train\"\n",
    "val_dir   = r\"C:\\Users\\Liang\\OneDrive - Nanyang Technological University\\Documents\\AIDM\\datasets\\val\"\n",
    "\n",
    "img_size = 224\n",
    "epochs = 20\n",
    "batch_size = 64\n",
    "learning_rate = 3e-4\n",
    "weight_decay = 0.05\n",
    "warmup_epochs = 5\n",
    "label_smoothing = 0.1\n",
    "mixup_alpha = 0.2\n",
    "cutmix_alpha = 0.2\n",
    "random_erasing_p = 0.1\n",
    "\n",
    "best_ckpt_path = \"convnext_tiny_best.pth\"\n",
    "model_name = \"convnext_tiny.fb_in22k_ft_in1k\""
   ]
  },
  {
   "cell_type": "code",
   "execution_count": 4,
   "id": "b282c012",
   "metadata": {},
   "outputs": [
    {
     "name": "stdout",
     "output_type": "stream",
     "text": [
      "Classes: ['cat', 'dog']\n"
     ]
    },
    {
     "data": {
      "text/plain": [
       "(20000, 5000, 2)"
      ]
     },
     "execution_count": 4,
     "metadata": {},
     "output_type": "execute_result"
    }
   ],
   "source": [
    "train_tfms = transforms.Compose([\n",
    "    transforms.RandomResizedCrop(img_size, scale=(0.7, 1.0)),\n",
    "    transforms.RandomHorizontalFlip(),\n",
    "    transforms.ColorJitter(0.1, 0.1, 0.1, 0.05),\n",
    "    transforms.ToTensor(),\n",
    "    transforms.Normalize(mean=(0.485,0.456,0.406), std=(0.229,0.224,0.225)),\n",
    "    transforms.RandomErasing(p=random_erasing_p, scale=(0.02, 0.1), ratio=(0.3, 3.3)),\n",
    "])\n",
    "\n",
    "val_tfms = transforms.Compose([\n",
    "    transforms.Resize(int(img_size * 1.14)),\n",
    "    transforms.CenterCrop(img_size),\n",
    "    transforms.ToTensor(),\n",
    "    transforms.Normalize(mean=(0.485,0.456,0.406), std=(0.229,0.224,0.225)),\n",
    "])\n",
    "\n",
    "train_ds = datasets.ImageFolder(train_dir, transform=train_tfms)\n",
    "val_ds   = datasets.ImageFolder(val_dir,   transform=val_tfms)\n",
    "classes = train_ds.classes\n",
    "num_classes = len(classes)\n",
    "print('Classes:', classes)\n",
    "\n",
    "num_workers = 2\n",
    "train_dl = DataLoader(\n",
    "    train_ds,\n",
    "    batch_size=batch_size,\n",
    "    shuffle=True,\n",
    "    num_workers=num_workers,\n",
    "    pin_memory=False,\n",
    "    prefetch_factor=1,\n",
    "    persistent_workers=False\n",
    ")\n",
    "\n",
    "val_dl = DataLoader(\n",
    "    val_ds,\n",
    "    batch_size=batch_size,\n",
    "    shuffle=False,\n",
    "    num_workers=num_workers,\n",
    "    pin_memory=False,\n",
    "    prefetch_factor=1,\n",
    "    persistent_workers=False\n",
    ")\n",
    "\n",
    "len(train_ds), len(val_ds), num_classes"
   ]
  },
  {
   "cell_type": "code",
   "execution_count": 5,
   "id": "cc19de17",
   "metadata": {},
   "outputs": [],
   "source": [
    "model = timm.create_model(model_name, pretrained=True, num_classes=num_classes)\n",
    "model.to(device)\n",
    "\n",
    "mixup_fn = Mixup(\n",
    "    mixup_alpha=mixup_alpha,\n",
    "    cutmix_alpha=cutmix_alpha,\n",
    "    label_smoothing=label_smoothing,\n",
    "    num_classes=num_classes\n",
    ")\n",
    "\n",
    "optimizer = AdamW(model.parameters(), lr=learning_rate, weight_decay=weight_decay)\n",
    "num_steps = len(train_dl)\n",
    "scheduler = CosineLRScheduler(\n",
    "    optimizer,\n",
    "    t_initial=(epochs - warmup_epochs) * num_steps,\n",
    "    lr_min=1e-6,\n",
    "    warmup_t=warmup_epochs * num_steps,\n",
    "    warmup_lr_init=1e-6,\n",
    "    k_decay=1.0,\n",
    ")\n",
    "ema = ModelEmaV2(model, decay=0.9999, device=device)\n",
    "\n",
    "scaler = amp.GradScaler(device_type)\n",
    "\n",
    "criterion_train = SoftTargetCrossEntropy()\n",
    "\n",
    "criterion_val = nn.CrossEntropyLoss()\n",
    "\n",
    "def current_lr(opt):\n",
    "    for g in opt.param_groups:\n",
    "        return g[\"lr\"]"
   ]
  },
  {
   "cell_type": "code",
   "execution_count": 6,
   "id": "89047f6c",
   "metadata": {},
   "outputs": [],
   "source": [
    "def train_one_epoch(epoch):\n",
    "    model.train()\n",
    "    total, loss_sum = 0, 0.0\n",
    "    pbar = tqdm(enumerate(train_dl), total=len(train_dl), desc=f\"Epoch {epoch+1}/{epochs} [train]\")\n",
    "    for step, (x, y) in pbar:\n",
    "        x, y = x.to(device, non_blocking=True), y.to(device, non_blocking=True)\n",
    "        x, y_mix = mixup_fn(x, y)  # soft labels\n",
    "\n",
    "        optimizer.zero_grad(set_to_none=True)\n",
    "        with amp.autocast(device_type=device_type):\n",
    "            logits = model(x)\n",
    "            loss = criterion_train(logits, y_mix)\n",
    "\n",
    "        scaler.scale(loss).backward()\n",
    "        scaler.step(optimizer)\n",
    "        scaler.update()\n",
    "        ema.update(model)\n",
    "        scheduler.step(epoch * len(train_dl) + step)\n",
    "\n",
    "        bs_now = x.size(0)\n",
    "        loss_sum += loss.item() * bs_now\n",
    "        total += bs_now\n",
    "        pbar.set_postfix(loss=f\"{loss.item():.4f}\", lr=f\"{current_lr(optimizer):.2e}\")\n",
    "\n",
    "    return loss_sum / max(total, 1)\n",
    "\n",
    "@torch.no_grad()\n",
    "def evaluate(epoch=0, use_ema=True):\n",
    "    m = ema.module if use_ema else model\n",
    "    m.eval()\n",
    "    total, correct, loss_sum = 0, 0, 0.0\n",
    "    pbar = tqdm(val_dl, total=len(val_dl), desc=f\"Epoch {epoch+1}/{epochs} [val] \", leave=False)\n",
    "    for x, y in pbar:\n",
    "        x, y = x.to(device, non_blocking=True), y.to(device, non_blocking=True)\n",
    "        with amp.autocast(device_type=device_type):\n",
    "            logits = m(x)\n",
    "            loss = criterion_val(logits, y)\n",
    "        preds = logits.argmax(1)\n",
    "        correct += (preds == y).sum().item()\n",
    "        loss_sum += loss.item() * x.size(0)\n",
    "        total += x.size(0)\n",
    "    return loss_sum / max(total, 1), correct / max(total, 1)"
   ]
  },
  {
   "cell_type": "code",
   "execution_count": 7,
   "id": "b8c7e235",
   "metadata": {
    "scrolled": false
   },
   "outputs": [
    {
     "data": {
      "application/vnd.jupyter.widget-view+json": {
       "model_id": "900217ca918a438c92181e7ed87394a2",
       "version_major": 2,
       "version_minor": 0
      },
      "text/plain": [
       "Epoch 1/20 [train]:   0%|          | 0/313 [00:00<?, ?it/s]"
      ]
     },
     "metadata": {},
     "output_type": "display_data"
    },
    {
     "data": {
      "application/vnd.jupyter.widget-view+json": {
       "model_id": "",
       "version_major": 2,
       "version_minor": 0
      },
      "text/plain": [
       "Epoch 1/20 [val] :   0%|          | 0/79 [00:14<?, ?it/s]"
      ]
     },
     "metadata": {},
     "output_type": "display_data"
    },
    {
     "name": "stdout",
     "output_type": "stream",
     "text": [
      "Epoch   1/20 | train 0.3771 | val 0.5534 | acc 0.7264 | 437.8s\n",
      "  ✓ Saved new best to convnext_tiny_best.pth (acc 0.7264)\n"
     ]
    },
    {
     "data": {
      "application/vnd.jupyter.widget-view+json": {
       "model_id": "74a6d0db20d04867ba255339da58bb29",
       "version_major": 2,
       "version_minor": 0
      },
      "text/plain": [
       "Epoch 2/20 [train]:   0%|          | 0/313 [00:00<?, ?it/s]"
      ]
     },
     "metadata": {},
     "output_type": "display_data"
    },
    {
     "data": {
      "application/vnd.jupyter.widget-view+json": {
       "model_id": "",
       "version_major": 2,
       "version_minor": 0
      },
      "text/plain": [
       "Epoch 2/20 [val] :   0%|          | 0/79 [00:17<?, ?it/s]"
      ]
     },
     "metadata": {},
     "output_type": "display_data"
    },
    {
     "name": "stdout",
     "output_type": "stream",
     "text": [
      "Epoch   2/20 | train 0.3322 | val 0.5055 | acc 0.7778 | 396.4s\n",
      "  ✓ Saved new best to convnext_tiny_best.pth (acc 0.7778)\n"
     ]
    },
    {
     "data": {
      "application/vnd.jupyter.widget-view+json": {
       "model_id": "6afa2748e23e46eabf6816ef3e968e83",
       "version_major": 2,
       "version_minor": 0
      },
      "text/plain": [
       "Epoch 3/20 [train]:   0%|          | 0/313 [00:00<?, ?it/s]"
      ]
     },
     "metadata": {},
     "output_type": "display_data"
    },
    {
     "data": {
      "application/vnd.jupyter.widget-view+json": {
       "model_id": "",
       "version_major": 2,
       "version_minor": 0
      },
      "text/plain": [
       "Epoch 3/20 [val] :   0%|          | 0/79 [00:14<?, ?it/s]"
      ]
     },
     "metadata": {},
     "output_type": "display_data"
    },
    {
     "name": "stdout",
     "output_type": "stream",
     "text": [
      "Epoch   3/20 | train 0.3368 | val 0.4489 | acc 0.8298 | 262.6s\n",
      "  ✓ Saved new best to convnext_tiny_best.pth (acc 0.8298)\n"
     ]
    },
    {
     "data": {
      "application/vnd.jupyter.widget-view+json": {
       "model_id": "a2a4b2d7ea404d7db7e0bc0ed2da110c",
       "version_major": 2,
       "version_minor": 0
      },
      "text/plain": [
       "Epoch 4/20 [train]:   0%|          | 0/313 [00:00<?, ?it/s]"
      ]
     },
     "metadata": {},
     "output_type": "display_data"
    },
    {
     "data": {
      "application/vnd.jupyter.widget-view+json": {
       "model_id": "",
       "version_major": 2,
       "version_minor": 0
      },
      "text/plain": [
       "Epoch 4/20 [val] :   0%|          | 0/79 [00:16<?, ?it/s]"
      ]
     },
     "metadata": {},
     "output_type": "display_data"
    },
    {
     "name": "stdout",
     "output_type": "stream",
     "text": [
      "Epoch   4/20 | train 0.3308 | val 0.3849 | acc 0.8844 | 242.8s\n",
      "  ✓ Saved new best to convnext_tiny_best.pth (acc 0.8844)\n"
     ]
    },
    {
     "data": {
      "application/vnd.jupyter.widget-view+json": {
       "model_id": "cf558b8d4000453b967528b8c8acfc36",
       "version_major": 2,
       "version_minor": 0
      },
      "text/plain": [
       "Epoch 5/20 [train]:   0%|          | 0/313 [00:00<?, ?it/s]"
      ]
     },
     "metadata": {},
     "output_type": "display_data"
    },
    {
     "data": {
      "application/vnd.jupyter.widget-view+json": {
       "model_id": "",
       "version_major": 2,
       "version_minor": 0
      },
      "text/plain": [
       "Epoch 5/20 [val] :   0%|          | 0/79 [00:13<?, ?it/s]"
      ]
     },
     "metadata": {},
     "output_type": "display_data"
    },
    {
     "name": "stdout",
     "output_type": "stream",
     "text": [
      "Epoch   5/20 | train 0.3438 | val 0.3201 | acc 0.9332 | 259.5s\n",
      "  ✓ Saved new best to convnext_tiny_best.pth (acc 0.9332)\n"
     ]
    },
    {
     "data": {
      "application/vnd.jupyter.widget-view+json": {
       "model_id": "7e71696ffd7140ff92a303ffe541c373",
       "version_major": 2,
       "version_minor": 0
      },
      "text/plain": [
       "Epoch 6/20 [train]:   0%|          | 0/313 [00:00<?, ?it/s]"
      ]
     },
     "metadata": {},
     "output_type": "display_data"
    },
    {
     "data": {
      "application/vnd.jupyter.widget-view+json": {
       "model_id": "",
       "version_major": 2,
       "version_minor": 0
      },
      "text/plain": [
       "Epoch 6/20 [val] :   0%|          | 0/79 [00:19<?, ?it/s]"
      ]
     },
     "metadata": {},
     "output_type": "display_data"
    },
    {
     "name": "stdout",
     "output_type": "stream",
     "text": [
      "Epoch   6/20 | train 0.3188 | val 0.2626 | acc 0.9624 | 269.3s\n",
      "  ✓ Saved new best to convnext_tiny_best.pth (acc 0.9624)\n"
     ]
    },
    {
     "data": {
      "application/vnd.jupyter.widget-view+json": {
       "model_id": "bb2a640876ef430a86303bf0aeab5d71",
       "version_major": 2,
       "version_minor": 0
      },
      "text/plain": [
       "Epoch 7/20 [train]:   0%|          | 0/313 [00:00<?, ?it/s]"
      ]
     },
     "metadata": {},
     "output_type": "display_data"
    },
    {
     "data": {
      "application/vnd.jupyter.widget-view+json": {
       "model_id": "",
       "version_major": 2,
       "version_minor": 0
      },
      "text/plain": [
       "Epoch 7/20 [val] :   0%|          | 0/79 [00:13<?, ?it/s]"
      ]
     },
     "metadata": {},
     "output_type": "display_data"
    },
    {
     "name": "stdout",
     "output_type": "stream",
     "text": [
      "Epoch   7/20 | train 0.3174 | val 0.2173 | acc 0.9756 | 265.3s\n",
      "  ✓ Saved new best to convnext_tiny_best.pth (acc 0.9756)\n"
     ]
    },
    {
     "data": {
      "application/vnd.jupyter.widget-view+json": {
       "model_id": "264d317cb4944cf7aeed3b58727586b8",
       "version_major": 2,
       "version_minor": 0
      },
      "text/plain": [
       "Epoch 8/20 [train]:   0%|          | 0/313 [00:00<?, ?it/s]"
      ]
     },
     "metadata": {},
     "output_type": "display_data"
    },
    {
     "data": {
      "application/vnd.jupyter.widget-view+json": {
       "model_id": "",
       "version_major": 2,
       "version_minor": 0
      },
      "text/plain": [
       "Epoch 8/20 [val] :   0%|          | 0/79 [00:15<?, ?it/s]"
      ]
     },
     "metadata": {},
     "output_type": "display_data"
    },
    {
     "name": "stdout",
     "output_type": "stream",
     "text": [
      "Epoch   8/20 | train 0.3243 | val 0.1815 | acc 0.9842 | 271.8s\n",
      "  ✓ Saved new best to convnext_tiny_best.pth (acc 0.9842)\n"
     ]
    },
    {
     "data": {
      "application/vnd.jupyter.widget-view+json": {
       "model_id": "13cf8c38bbd74be0bb75b7c3c6a29783",
       "version_major": 2,
       "version_minor": 0
      },
      "text/plain": [
       "Epoch 9/20 [train]:   0%|          | 0/313 [00:00<?, ?it/s]"
      ]
     },
     "metadata": {},
     "output_type": "display_data"
    },
    {
     "data": {
      "application/vnd.jupyter.widget-view+json": {
       "model_id": "",
       "version_major": 2,
       "version_minor": 0
      },
      "text/plain": [
       "Epoch 9/20 [val] :   0%|          | 0/79 [00:15<?, ?it/s]"
      ]
     },
     "metadata": {},
     "output_type": "display_data"
    },
    {
     "name": "stdout",
     "output_type": "stream",
     "text": [
      "Epoch   9/20 | train 0.3291 | val 0.1535 | acc 0.9886 | 262.2s\n",
      "  ✓ Saved new best to convnext_tiny_best.pth (acc 0.9886)\n"
     ]
    },
    {
     "data": {
      "application/vnd.jupyter.widget-view+json": {
       "model_id": "d0b260f2ada3400681a9999e4c6b795a",
       "version_major": 2,
       "version_minor": 0
      },
      "text/plain": [
       "Epoch 10/20 [train]:   0%|          | 0/313 [00:00<?, ?it/s]"
      ]
     },
     "metadata": {},
     "output_type": "display_data"
    },
    {
     "data": {
      "application/vnd.jupyter.widget-view+json": {
       "model_id": "",
       "version_major": 2,
       "version_minor": 0
      },
      "text/plain": [
       "Epoch 10/20 [val] :   0%|          | 0/79 [00:15<?, ?it/s]"
      ]
     },
     "metadata": {},
     "output_type": "display_data"
    },
    {
     "name": "stdout",
     "output_type": "stream",
     "text": [
      "Epoch  10/20 | train 0.3136 | val 0.1322 | acc 0.9920 | 260.5s\n",
      "  ✓ Saved new best to convnext_tiny_best.pth (acc 0.9920)\n"
     ]
    },
    {
     "data": {
      "application/vnd.jupyter.widget-view+json": {
       "model_id": "86d63d053e2549eb9ec323131d4e00a0",
       "version_major": 2,
       "version_minor": 0
      },
      "text/plain": [
       "Epoch 11/20 [train]:   0%|          | 0/313 [00:00<?, ?it/s]"
      ]
     },
     "metadata": {},
     "output_type": "display_data"
    },
    {
     "data": {
      "application/vnd.jupyter.widget-view+json": {
       "model_id": "",
       "version_major": 2,
       "version_minor": 0
      },
      "text/plain": [
       "Epoch 11/20 [val] :   0%|          | 0/79 [00:17<?, ?it/s]"
      ]
     },
     "metadata": {},
     "output_type": "display_data"
    },
    {
     "name": "stdout",
     "output_type": "stream",
     "text": [
      "Epoch  11/20 | train 0.3187 | val 0.1159 | acc 0.9936 | 268.1s\n",
      "  ✓ Saved new best to convnext_tiny_best.pth (acc 0.9936)\n"
     ]
    },
    {
     "data": {
      "application/vnd.jupyter.widget-view+json": {
       "model_id": "536d5f1cb07b446f9a3251372341d97f",
       "version_major": 2,
       "version_minor": 0
      },
      "text/plain": [
       "Epoch 12/20 [train]:   0%|          | 0/313 [00:00<?, ?it/s]"
      ]
     },
     "metadata": {},
     "output_type": "display_data"
    },
    {
     "data": {
      "application/vnd.jupyter.widget-view+json": {
       "model_id": "",
       "version_major": 2,
       "version_minor": 0
      },
      "text/plain": [
       "Epoch 12/20 [val] :   0%|          | 0/79 [00:15<?, ?it/s]"
      ]
     },
     "metadata": {},
     "output_type": "display_data"
    },
    {
     "name": "stdout",
     "output_type": "stream",
     "text": [
      "Epoch  12/20 | train 0.3157 | val 0.1033 | acc 0.9950 | 258.3s\n",
      "  ✓ Saved new best to convnext_tiny_best.pth (acc 0.9950)\n"
     ]
    },
    {
     "data": {
      "application/vnd.jupyter.widget-view+json": {
       "model_id": "dbfa76a020c04674b18fb21ea00f8eac",
       "version_major": 2,
       "version_minor": 0
      },
      "text/plain": [
       "Epoch 13/20 [train]:   0%|          | 0/313 [00:00<?, ?it/s]"
      ]
     },
     "metadata": {},
     "output_type": "display_data"
    },
    {
     "data": {
      "application/vnd.jupyter.widget-view+json": {
       "model_id": "",
       "version_major": 2,
       "version_minor": 0
      },
      "text/plain": [
       "Epoch 13/20 [val] :   0%|          | 0/79 [00:15<?, ?it/s]"
      ]
     },
     "metadata": {},
     "output_type": "display_data"
    },
    {
     "name": "stdout",
     "output_type": "stream",
     "text": [
      "Epoch  13/20 | train 0.3247 | val 0.0938 | acc 0.9956 | 262.2s\n",
      "  ✓ Saved new best to convnext_tiny_best.pth (acc 0.9956)\n"
     ]
    },
    {
     "data": {
      "application/vnd.jupyter.widget-view+json": {
       "model_id": "031b0bf681dd4cf19da05a5ed39dd600",
       "version_major": 2,
       "version_minor": 0
      },
      "text/plain": [
       "Epoch 14/20 [train]:   0%|          | 0/313 [00:00<?, ?it/s]"
      ]
     },
     "metadata": {},
     "output_type": "display_data"
    },
    {
     "data": {
      "application/vnd.jupyter.widget-view+json": {
       "model_id": "",
       "version_major": 2,
       "version_minor": 0
      },
      "text/plain": [
       "Epoch 14/20 [val] :   0%|          | 0/79 [00:19<?, ?it/s]"
      ]
     },
     "metadata": {},
     "output_type": "display_data"
    },
    {
     "name": "stdout",
     "output_type": "stream",
     "text": [
      "Epoch  14/20 | train 0.3156 | val 0.0864 | acc 0.9968 | 280.5s\n",
      "  ✓ Saved new best to convnext_tiny_best.pth (acc 0.9968)\n"
     ]
    },
    {
     "data": {
      "application/vnd.jupyter.widget-view+json": {
       "model_id": "11c566e855194902ad8dd8f7a1a8df13",
       "version_major": 2,
       "version_minor": 0
      },
      "text/plain": [
       "Epoch 15/20 [train]:   0%|          | 0/313 [00:00<?, ?it/s]"
      ]
     },
     "metadata": {},
     "output_type": "display_data"
    },
    {
     "data": {
      "application/vnd.jupyter.widget-view+json": {
       "model_id": "",
       "version_major": 2,
       "version_minor": 0
      },
      "text/plain": [
       "Epoch 15/20 [val] :   0%|          | 0/79 [00:18<?, ?it/s]"
      ]
     },
     "metadata": {},
     "output_type": "display_data"
    },
    {
     "name": "stdout",
     "output_type": "stream",
     "text": [
      "Epoch  15/20 | train 0.3214 | val 0.0806 | acc 0.9968 | 293.3s\n"
     ]
    },
    {
     "data": {
      "application/vnd.jupyter.widget-view+json": {
       "model_id": "ba767ebe959f44a9ad6d10eff4ded758",
       "version_major": 2,
       "version_minor": 0
      },
      "text/plain": [
       "Epoch 16/20 [train]:   0%|          | 0/313 [00:00<?, ?it/s]"
      ]
     },
     "metadata": {},
     "output_type": "display_data"
    },
    {
     "data": {
      "application/vnd.jupyter.widget-view+json": {
       "model_id": "",
       "version_major": 2,
       "version_minor": 0
      },
      "text/plain": [
       "Epoch 16/20 [val] :   0%|          | 0/79 [00:15<?, ?it/s]"
      ]
     },
     "metadata": {},
     "output_type": "display_data"
    },
    {
     "name": "stdout",
     "output_type": "stream",
     "text": [
      "Epoch  16/20 | train 0.3205 | val 0.0762 | acc 0.9970 | 270.8s\n",
      "  ✓ Saved new best to convnext_tiny_best.pth (acc 0.9970)\n"
     ]
    },
    {
     "data": {
      "application/vnd.jupyter.widget-view+json": {
       "model_id": "c2c8e8bf7f1b4e619944a0f62b417416",
       "version_major": 2,
       "version_minor": 0
      },
      "text/plain": [
       "Epoch 17/20 [train]:   0%|          | 0/313 [00:00<?, ?it/s]"
      ]
     },
     "metadata": {},
     "output_type": "display_data"
    },
    {
     "data": {
      "application/vnd.jupyter.widget-view+json": {
       "model_id": "",
       "version_major": 2,
       "version_minor": 0
      },
      "text/plain": [
       "Epoch 17/20 [val] :   0%|          | 0/79 [00:15<?, ?it/s]"
      ]
     },
     "metadata": {},
     "output_type": "display_data"
    },
    {
     "name": "stdout",
     "output_type": "stream",
     "text": [
      "Epoch  17/20 | train 0.3145 | val 0.0726 | acc 0.9970 | 262.0s\n"
     ]
    },
    {
     "data": {
      "application/vnd.jupyter.widget-view+json": {
       "model_id": "86e0d280e4a4408898dc9f455117fb83",
       "version_major": 2,
       "version_minor": 0
      },
      "text/plain": [
       "Epoch 18/20 [train]:   0%|          | 0/313 [00:00<?, ?it/s]"
      ]
     },
     "metadata": {},
     "output_type": "display_data"
    },
    {
     "data": {
      "application/vnd.jupyter.widget-view+json": {
       "model_id": "",
       "version_major": 2,
       "version_minor": 0
      },
      "text/plain": [
       "Epoch 18/20 [val] :   0%|          | 0/79 [00:16<?, ?it/s]"
      ]
     },
     "metadata": {},
     "output_type": "display_data"
    },
    {
     "name": "stdout",
     "output_type": "stream",
     "text": [
      "Epoch  18/20 | train 0.3192 | val 0.0699 | acc 0.9970 | 261.0s\n"
     ]
    },
    {
     "data": {
      "application/vnd.jupyter.widget-view+json": {
       "model_id": "1111917dbdee4aa496522dc690081d49",
       "version_major": 2,
       "version_minor": 0
      },
      "text/plain": [
       "Epoch 19/20 [train]:   0%|          | 0/313 [00:00<?, ?it/s]"
      ]
     },
     "metadata": {},
     "output_type": "display_data"
    },
    {
     "data": {
      "application/vnd.jupyter.widget-view+json": {
       "model_id": "",
       "version_major": 2,
       "version_minor": 0
      },
      "text/plain": [
       "Epoch 19/20 [val] :   0%|          | 0/79 [00:17<?, ?it/s]"
      ]
     },
     "metadata": {},
     "output_type": "display_data"
    },
    {
     "name": "stdout",
     "output_type": "stream",
     "text": [
      "Epoch  19/20 | train 0.3106 | val 0.0677 | acc 0.9970 | 268.9s\n"
     ]
    },
    {
     "data": {
      "application/vnd.jupyter.widget-view+json": {
       "model_id": "2553ecc6ef6641c986b5cb36763caf0e",
       "version_major": 2,
       "version_minor": 0
      },
      "text/plain": [
       "Epoch 20/20 [train]:   0%|          | 0/313 [00:00<?, ?it/s]"
      ]
     },
     "metadata": {},
     "output_type": "display_data"
    },
    {
     "data": {
      "application/vnd.jupyter.widget-view+json": {
       "model_id": "",
       "version_major": 2,
       "version_minor": 0
      },
      "text/plain": [
       "Epoch 20/20 [val] :   0%|          | 0/79 [00:15<?, ?it/s]"
      ]
     },
     "metadata": {},
     "output_type": "display_data"
    },
    {
     "name": "stdout",
     "output_type": "stream",
     "text": [
      "Epoch  20/20 | train 0.3326 | val 0.0659 | acc 0.9972 | 265.8s\n",
      "  ✓ Saved new best to convnext_tiny_best.pth (acc 0.9972)\n",
      "Best val acc: 0.9972\n"
     ]
    }
   ],
   "source": [
    "best_acc = 0.0\n",
    "for epoch in range(epochs):\n",
    "    t0 = time.time()\n",
    "    train_loss = train_one_epoch(epoch)\n",
    "    val_loss, val_acc = evaluate(epoch=epoch)\n",
    "    dt = time.time() - t0\n",
    "\n",
    "    tqdm.write(f\"Epoch {epoch+1:>3}/{epochs} | train {train_loss:.4f} | val {val_loss:.4f} | acc {val_acc:.4f} | {dt:.1f}s\")\n",
    "\n",
    "    if val_acc > best_acc:\n",
    "        best_acc = val_acc\n",
    "        torch.save(ema.module.state_dict(), best_ckpt_path)\n",
    "        tqdm.write(f\"  ✓ Saved new best to {best_ckpt_path} (acc {best_acc:.4f})\")\n",
    "\n",
    "print('Best val acc:', best_acc)"
   ]
  },
  {
   "cell_type": "code",
   "execution_count": 8,
   "id": "da709924",
   "metadata": {},
   "outputs": [
    {
     "name": "stderr",
     "output_type": "stream",
     "text": [
      "C:\\Users\\Liang\\AppData\\Local\\Temp\\ipykernel_13440\\930448117.py:32: FutureWarning: You are using `torch.load` with `weights_only=False` (the current default value), which uses the default pickle module implicitly. It is possible to construct malicious pickle data which will execute arbitrary code during unpickling (See https://github.com/pytorch/pytorch/blob/main/SECURITY.md#untrusted-models for more details). In a future release, the default value for `weights_only` will be flipped to `True`. This limits the functions that could be executed during unpickling. Arbitrary objects will no longer be allowed to be loaded via this mode unless they are explicitly allowlisted by the user via `torch.serialization.add_safe_globals`. We recommend you start setting `weights_only=True` for any use case where you don't have full control of the loaded file. Please open an issue on GitHub for any issues related to this experimental feature.\n",
      "  state = torch.load(best_ckpt_path, map_location=device)\n"
     ]
    },
    {
     "data": {
      "application/vnd.jupyter.widget-view+json": {
       "model_id": "2dcbdd6062e44eb0b4c657b7c669d128",
       "version_major": 2,
       "version_minor": 0
      },
      "text/plain": [
       "Testing:   0%|          | 0/8 [00:01<?, ?it/s]"
      ]
     },
     "metadata": {},
     "output_type": "display_data"
    },
    {
     "name": "stdout",
     "output_type": "stream",
     "text": [
      "\n",
      "Test accuracy: 1.0000\n",
      "\n",
      "Classification report:\n",
      "              precision    recall  f1-score   support\n",
      "\n",
      "         cat     1.0000    1.0000    1.0000       241\n",
      "         dog     1.0000    1.0000    1.0000       259\n",
      "\n",
      "    accuracy                         1.0000       500\n",
      "   macro avg     1.0000    1.0000    1.0000       500\n",
      "weighted avg     1.0000    1.0000    1.0000       500\n",
      "\n",
      "Confusion matrix (counts):\n",
      " [[241   0]\n",
      " [  0 259]]\n",
      "\n",
      "Confusion matrix (row-normalized):\n",
      " [[1. 0.]\n",
      " [0. 1.]]\n"
     ]
    },
    {
     "data": {
      "image/png": "[encoded data removed]",
      "text/plain": [
       "<Figure size 500x400 with 1 Axes>"
      ]
     },
     "metadata": {},
     "output_type": "display_data"
    },
    {
     "data": {
      "image/png": "[encoded data removed]",
      "text/plain": [
       "<Figure size 500x400 with 1 Axes>"
      ]
     },
     "metadata": {},
     "output_type": "display_data"
    },
    {
     "name": "stdout",
     "output_type": "stream",
     "text": [
      "\n",
      "Saved predictions CSV to: test_predictions.csv\n",
      "    id pred_label true_label\n",
      "0    1        cat        cat\n",
      "1  100        cat        cat\n",
      "2  101        cat        cat\n",
      "3  103        cat        cat\n",
      "4  107        cat        cat\n",
      "5  108        cat        cat\n",
      "6  110        cat        cat\n",
      "7  111        cat        cat\n",
      "8   12        cat        cat\n",
      "9  121        cat        cat\n"
     ]
    }
   ],
   "source": [
    "import os\n",
    "import torch\n",
    "from torchvision import datasets, transforms\n",
    "from torch.utils.data import DataLoader\n",
    "from tqdm.auto import tqdm\n",
    "from sklearn.metrics import confusion_matrix, classification_report\n",
    "import numpy as np\n",
    "import matplotlib.pyplot as plt\n",
    "import pandas as pd\n",
    "from pathlib import Path\n",
    "\n",
    "test_dir = r\"C:\\Users\\Liang\\OneDrive - Nanyang Technological University\\Documents\\AIDM\\datasets\\test\"\n",
    "assert os.path.isdir(test_dir), f\"Test dir not found: {test_dir}\"\n",
    "\n",
    "test_tfms = val_tfms\n",
    "\n",
    "test_ds = datasets.ImageFolder(test_dir, transform=test_tfms)\n",
    "test_classes = test_ds.classes\n",
    "assert test_classes == classes, f\"Class order mismatch! train/val: {classes}, test: {test_classes}\"\n",
    "\n",
    "test_dl = DataLoader(\n",
    "    test_ds,\n",
    "    batch_size=batch_size,\n",
    "    shuffle=False,\n",
    "    num_workers=min(8, os.cpu_count() or 4),\n",
    "    pin_memory=False\n",
    ")\n",
    "\n",
    "if not os.path.isfile(best_ckpt_path):\n",
    "    raise FileNotFoundError(f\"Best checkpoint not found at {best_ckpt_path}. Train first or set correct path.\")\n",
    "\n",
    "def load_weights_safely(path, device):\n",
    "    try:\n",
    "        return torch.load(path, map_location=device, weights_only=True)\n",
    "    except TypeError:\n",
    "        return torch.load(path, map_location=device)\n",
    "\n",
    "state = load_weights_safely(best_ckpt_path, device)\n",
    "ema.module.load_state_dict(state)\n",
    "infer_model = ema.module.eval()\n",
    "\n",
    "all_preds = []\n",
    "all_targets = []\n",
    "\n",
    "with torch.no_grad():\n",
    "    pbar = tqdm(test_dl, total=len(test_dl), desc=\"Testing\")\n",
    "    for x, y in pbar:\n",
    "        x = x.to(device, non_blocking=True)\n",
    "        y = y.to(device, non_blocking=True)\n",
    "        with amp.autocast(device_type=device_type):\n",
    "            logits = infer_model(x)\n",
    "        preds = logits.argmax(1)\n",
    "\n",
    "        all_preds.append(preds.cpu().numpy())\n",
    "        all_targets.append(y.cpu().numpy())\n",
    "\n",
    "y_true = np.concatenate(all_targets)\n",
    "y_pred = np.concatenate(all_preds)\n",
    "\n",
    "acc = (y_true == y_pred).mean()\n",
    "print(f\"\\nTest accuracy: {acc:.4f}\\n\")\n",
    "print(\"Classification report:\")\n",
    "print(classification_report(y_true, y_pred, target_names=classes, digits=4))\n",
    "\n",
    "cm = confusion_matrix(y_true, y_pred, labels=list(range(len(classes))))\n",
    "cm_norm = cm.astype(np.float64) / cm.sum(axis=1, keepdims=True).clip(min=1)\n",
    "\n",
    "print(\"Confusion matrix (counts):\\n\", cm)\n",
    "print(\"\\nConfusion matrix (row-normalized):\\n\", np.round(cm_norm, 3))\n",
    "\n",
    "plt.figure(figsize=(5, 4))\n",
    "plt.imshow(cm, interpolation='nearest')\n",
    "plt.title('Confusion Matrix (Counts)')\n",
    "plt.xlabel('Predicted')\n",
    "plt.ylabel('True')\n",
    "plt.xticks(ticks=np.arange(len(classes)), labels=classes, rotation=45, ha='right')\n",
    "plt.yticks(ticks=np.arange(len(classes)), labels=classes)\n",
    "for i in range(cm.shape[0]):\n",
    "    for j in range(cm.shape[1]):\n",
    "        plt.text(j, i, str(cm[i, j]), ha='center', va='center')\n",
    "plt.tight_layout()\n",
    "plt.show()\n",
    "\n",
    "plt.figure(figsize=(5, 4))\n",
    "plt.imshow(cm_norm, interpolation='nearest')\n",
    "plt.title('Confusion Matrix (Normalized)')\n",
    "plt.xlabel('Predicted')\n",
    "plt.ylabel('True')\n",
    "plt.xticks(ticks=np.arange(len(classes)), labels=classes, rotation=45, ha='right')\n",
    "plt.yticks(ticks=np.arange(len(classes)), labels=classes)\n",
    "for i in range(cm_norm.shape[0]):\n",
    "    for j in range(cm_norm.shape[1]):\n",
    "        plt.text(j, i, f\"{cm_norm[i, j]:.2f}\", ha='center', va='center')\n",
    "plt.tight_layout()\n",
    "plt.show()\n",
    "\n",
    "filepaths = [p for p, _ in test_ds.samples]\n",
    "ids = [Path(p).stem for p in filepaths]\n",
    "\n",
    "pred_labels = [classes[i] for i in y_pred]\n",
    "true_labels = [classes[i] for i in y_true]\n",
    "\n",
    "df_out = pd.DataFrame({\n",
    "    \"id\": ids,\n",
    "    \"pred_label\": pred_labels,\n",
    "    \"true_label\": true_labels,\n",
    "})\n",
    "\n",
    "csv_path = os.path.join(os.path.dirname(best_ckpt_path), \"test_predictions.csv\")\n",
    "df_out.to_csv(csv_path, index=False, encoding=\"utf-8\")\n",
    "print(f\"\\nSaved predictions CSV to: {csv_path}\")\n",
    "print(df_out.head(10))"
   ]
  }
 ],
 "metadata": {
  "kernelspec": {
   "display_name": "Python 3 (ipykernel)",
   "language": "python",
   "name": "python3"
  },
  "language_info": {
   "codemirror_mode": {
    "name": "ipython",
    "version": 3
   },
   "file_extension": ".py",
   "mimetype": "text/x-python",
   "name": "python",
   "nbconvert_exporter": "python",
   "pygments_lexer": "ipython3",
   "version": "3.9.13"
  }
 },
 "nbformat": 4,
 "nbformat_minor": 5
}
